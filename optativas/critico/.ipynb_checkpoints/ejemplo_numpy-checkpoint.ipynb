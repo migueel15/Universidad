{
 "cells": [
  {
   "cell_type": "code",
   "execution_count": 78,
   "id": "adb8e25f-5c82-4bde-902b-d4ddde650cc3",
   "metadata": {},
   "outputs": [],
   "source": [
    "# https://www.geeksforgeeks.org/python-numpy/\n",
    "import numpy as np\n",
    "import matplotlib.pyplot as plt"
   ]
  },
  {
   "cell_type": "code",
   "execution_count": 79,
   "id": "f46b32ef-755e-4c5d-8e2e-1b783d35a7ae",
   "metadata": {},
   "outputs": [],
   "source": [
    "# Creating a rank 1 Array\n",
    "arr = np.array([1, 2, 3])"
   ]
  },
  {
   "cell_type": "code",
   "execution_count": 80,
   "id": "64103bc2-f4d2-48ec-a24e-1a9638de93b5",
   "metadata": {},
   "outputs": [
    {
     "data": {
      "text/plain": [
       "array([1, 2, 3])"
      ]
     },
     "execution_count": 80,
     "metadata": {},
     "output_type": "execute_result"
    }
   ],
   "source": [
    "arr"
   ]
  },
  {
   "cell_type": "code",
   "execution_count": 81,
   "id": "3ea07dcd-a6db-4221-9476-7db51f255dbf",
   "metadata": {},
   "outputs": [
    {
     "name": "stdout",
     "output_type": "stream",
     "text": [
      "Array with Rank 2: \n",
      " [[1 2 3]\n",
      " [4 5 6]]\n"
     ]
    }
   ],
   "source": [
    "# Creating a rank 2 Array\n",
    "arr = np.array([[1, 2, 3],\n",
    "                [4, 5, 6]])\n",
    "print(\"Array with Rank 2: \\n\", arr)"
   ]
  },
  {
   "cell_type": "code",
   "execution_count": 82,
   "id": "34acab0d-ef55-444f-a772-1153e1a3c968",
   "metadata": {},
   "outputs": [
    {
     "data": {
      "text/plain": [
       "<matplotlib.collections.PathCollection at 0x2377fb96ea0>"
      ]
     },
     "execution_count": 82,
     "metadata": {},
     "output_type": "execute_result"
    },
    {
     "data": {
      "image/png": "[encoded data removed]",
      "text/plain": [
       "<Figure size 640x480 with 1 Axes>"
      ]
     },
     "metadata": {},
     "output_type": "display_data"
    }
   ],
   "source": [
    "plt.scatter(x=arr[0],y=arr[1])"
   ]
  },
  {
   "cell_type": "code",
   "execution_count": 83,
   "id": "8d768e25-c336-49e1-994b-9b89783488d0",
   "metadata": {},
   "outputs": [
    {
     "name": "stdout",
     "output_type": "stream",
     "text": [
      "Initial Array: \n",
      "[[-1.   2.   0.   4. ]\n",
      " [ 4.  -0.5  6.   0. ]\n",
      " [ 2.6  0.   7.   8. ]\n",
      " [ 3.  -7.   4.   2. ]]\n"
     ]
    }
   ],
   "source": [
    "# indexing\n",
    "# Initial Array\n",
    "arr = np.array([[-1, 2, 0, 4],\n",
    "                [4, -0.5, 6, 0],\n",
    "                [2.6, 0, 7, 8],\n",
    "                [3, -7, 4, 2.0]])\n",
    "print(\"Initial Array: \")\n",
    "print(arr)"
   ]
  },
  {
   "cell_type": "code",
   "execution_count": 84,
   "id": "5035f12d-8c83-418b-bc47-f00c7e778b61",
   "metadata": {},
   "outputs": [
    {
     "name": "stdout",
     "output_type": "stream",
     "text": [
      "Array with first 2 rows and columns 1 to 2:\n",
      " [[ 2.   0. ]\n",
      " [-0.5  6. ]]\n"
     ]
    }
   ],
   "source": [
    "# Printing a range of Array\n",
    "# with the use of slicing method\n",
    "sliced_arr = arr[:2, 1:3]\n",
    "\n",
    "#[[ 2.   0. ]\n",
    " #[-0.5  6. ]]\n",
    "print (\"Array with first 2 rows and\"\n",
    "    \" columns 1 to 2:\\n\", sliced_arr)"
   ]
  },
  {
   "cell_type": "code",
   "execution_count": 85,
   "id": "202745ae-9b93-4625-bb1d-9c043f757d66",
   "metadata": {},
   "outputs": [],
   "source": [
    "# basic operations on single array\n",
    "# Defining Array 1\n",
    "a = np.array([[1, 2],\n",
    "              [3, 4]])\n",
    " \n",
    "# Defining Array 2\n",
    "b = np.array([[4, 3],\n",
    "              [2, 1]])"
   ]
  },
  {
   "cell_type": "code",
   "execution_count": 86,
   "id": "73d609e0-6b29-47ef-9757-cdf5a09d2eee",
   "metadata": {},
   "outputs": [
    {
     "name": "stdout",
     "output_type": "stream",
     "text": [
      "Adding 1 to every element: [[2 3]\n",
      " [4 5]]\n",
      "\n",
      "Subtracting 2 from each element: [[ 2  1]\n",
      " [ 0 -1]]\n"
     ]
    }
   ],
   "source": [
    "# Adding 1 to every element\n",
    "print (\"Adding 1 to every element:\", a + 1)\n",
    " \n",
    "# Subtracting 2 from each element\n",
    "print (\"\\nSubtracting 2 from each element:\", b - 2)"
   ]
  },
  {
   "cell_type": "code",
   "execution_count": 87,
   "id": "e46bf4db-a413-4c06-bcc6-48c0e860fb05",
   "metadata": {},
   "outputs": [
    {
     "name": "stdout",
     "output_type": "stream",
     "text": [
      "\n",
      "Sum of all array elements:  10\n"
     ]
    }
   ],
   "source": [
    "print (\"\\nSum of all array \"\n",
    "       \"elements: \", a.sum())"
   ]
  },
  {
   "cell_type": "code",
   "execution_count": 88,
   "id": "3a639c73-ae9b-49f6-9ca6-f137401c9d9e",
   "metadata": {},
   "outputs": [
    {
     "name": "stdout",
     "output_type": "stream",
     "text": [
      "\n",
      "Array sum:\n",
      " [[5 5]\n",
      " [5 5]]\n"
     ]
    }
   ],
   "source": [
    "c = a + b\n",
    "print (\"\\nArray sum:\\n\", c)"
   ]
  },
  {
   "cell_type": "code",
   "execution_count": 89,
   "id": "d439e40b",
   "metadata": {},
   "outputs": [
    {
     "data": {
      "text/plain": [
       "array([5, 5, 5, 5])"
      ]
     },
     "execution_count": 89,
     "metadata": {},
     "output_type": "execute_result"
    }
   ],
   "source": [
    "# Reshape examples\n",
    "c=c.reshape(4)\n",
    "c\n"
   ]
  },
  {
   "cell_type": "code",
   "execution_count": 90,
   "id": "db3bd340",
   "metadata": {},
   "outputs": [
    {
     "data": {
      "text/plain": [
       "array([[5, 5, 5, 5]])"
      ]
     },
     "execution_count": 90,
     "metadata": {},
     "output_type": "execute_result"
    }
   ],
   "source": [
    "c=c.reshape(1,4)\n",
    "c"
   ]
  },
  {
   "cell_type": "code",
   "execution_count": 91,
   "id": "b024394a-a960-48f4-bb9c-d81743a6c7bd",
   "metadata": {},
   "outputs": [],
   "source": [
    "# Usar -1 para que NumPy calcule una de las dimensiones automáticamente\n",
    "c=c.reshape(2,-1)"
   ]
  },
  {
   "cell_type": "code",
   "execution_count": 92,
   "id": "4f42745a-7ef9-4e1b-a8bb-85355c67d917",
   "metadata": {},
   "outputs": [
    {
     "data": {
      "text/plain": [
       "array([[5, 5],\n",
       "       [5, 5]])"
      ]
     },
     "execution_count": 92,
     "metadata": {},
     "output_type": "execute_result"
    }
   ],
   "source": [
    "c"
   ]
  },
  {
   "cell_type": "code",
   "execution_count": 93,
   "id": "aea21f91",
   "metadata": {},
   "outputs": [
    {
     "data": {
      "text/plain": [
       "array([5, 5, 5, 5])"
      ]
     },
     "execution_count": 93,
     "metadata": {},
     "output_type": "execute_result"
    }
   ],
   "source": [
    "c=c.reshape(-1)\n",
    "c"
   ]
  },
  {
   "cell_type": "code",
   "execution_count": 94,
   "id": "13b53184-148e-48d3-a4c7-de48ca504f2f",
   "metadata": {},
   "outputs": [
    {
     "name": "stdout",
     "output_type": "stream",
     "text": [
      "Array c: [5 5 5 5]\n",
      "Array d: [4.73899508 4.87351076 4.99107896 5.20116227]\n"
     ]
    }
   ],
   "source": [
    "# Calculating error\n",
    "d = np.random.normal(c, c * 0.1)\n",
    "\n",
    "print (\"Array c:\", c)\n",
    "print(\"Array d:\", d)"
   ]
  },
  {
   "cell_type": "code",
   "execution_count": 95,
   "id": "08103a94-b2fa-4747-a3e0-9cb94f0bd16d",
   "metadata": {},
   "outputs": [
    {
     "name": "stdout",
     "output_type": "stream",
     "text": [
      "Average error: 0.14939436849515886\n"
     ]
    }
   ],
   "source": [
    "# Average error\n",
    "error = np.mean(np.abs(c - d))\n",
    "\n",
    "print(\"Average error:\", error)"
   ]
  },
  {
   "cell_type": "code",
   "execution_count": 96,
   "id": "a6899623",
   "metadata": {},
   "outputs": [
    {
     "data": {
      "text/plain": [
       "<matplotlib.legend.Legend at 0x2377f566870>"
      ]
     },
     "execution_count": 96,
     "metadata": {},
     "output_type": "execute_result"
    },
    {
     "data": {
      "image/png": "[encoded data removed]",
      "text/plain": [
       "<Figure size 640x480 with 1 Axes>"
      ]
     },
     "metadata": {},
     "output_type": "display_data"
    }
   ],
   "source": [
    "# Array comparison\n",
    "plt.plot(c, label=\"Array c\")\n",
    "plt.plot(d, label=\"Array d\")\n",
    "plt.xlabel(\"Index\")\n",
    "plt.ylabel(\"Value\")\n",
    "plt.title(\"Array comparison\")\n",
    "plt.legend()"
   ]
  }
 ],
 "metadata": {
  "kernelspec": {
   "display_name": "env3",
   "language": "python",
   "name": "python3"
  },
  "language_info": {
   "codemirror_mode": {
    "name": "ipython",
    "version": 3
   },
   "file_extension": ".py",
   "mimetype": "text/x-python",
   "name": "python",
   "nbconvert_exporter": "python",
   "pygments_lexer": "ipython3",
   "version": "3.12.4"
  }
 },
 "nbformat": 4,
 "nbformat_minor": 5
}
