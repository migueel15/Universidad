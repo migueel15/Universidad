{
 "cells": [
  {
   "cell_type": "code",
   "execution_count": 1,
   "id": "b42644d4-d826-4eb4-91d8-5ff6c2d4718f",
   "metadata": {},
   "outputs": [
    {
     "ename": "ModuleNotFoundError",
     "evalue": "No module named 'pandas'",
     "output_type": "error",
     "traceback": [
      "\u001b[0;31m---------------------------------------------------------------------------\u001b[0m",
      "\u001b[0;31mModuleNotFoundError\u001b[0m                       Traceback (most recent call last)",
      "Cell \u001b[0;32mIn[1], line 1\u001b[0m\n\u001b[0;32m----> 1\u001b[0m \u001b[38;5;28;01mimport\u001b[39;00m \u001b[38;5;21;01mpandas\u001b[39;00m \u001b[38;5;28;01mas\u001b[39;00m \u001b[38;5;21;01mpd\u001b[39;00m\n\u001b[1;32m      2\u001b[0m \u001b[38;5;28;01mfrom\u001b[39;00m \u001b[38;5;21;01msklearn\u001b[39;00m \u001b[38;5;28;01mimport\u001b[39;00m tree, neural_network, model_selection\n",
      "\u001b[0;31mModuleNotFoundError\u001b[0m: No module named 'pandas'"
     ]
    }
   ],
   "source": [
    "import pandas as pd\n",
    "from sklearn import tree, neural_network, model_selection"
   ]
  },
  {
   "cell_type": "code",
   "execution_count": null,
   "id": "86e1cb00-9978-4993-bd3c-10a8856e7c27",
   "metadata": {},
   "outputs": [],
   "source": [
    "# importar y ajustar datos\n",
    "dataset = pd.read_csv(\"./student-mat.csv\", delimiter=\";\")\n",
    "\n",
    "# convertir variables \n",
    "dataset[\"school\"] = (dataset[\"school\"] == \"GP\").astype(int)\n",
    "dataset[\"sex\"] = (dataset[\"sex\"] == \"M\").astype(int)\n",
    "dataset[\"address\"] = (dataset[\"address\"] == \"U\").astype(int)\n",
    "dataset[\"famsize\"] = (dataset[\"famsize\"] == \"GT3\").astype(int)\n",
    "dataset[\"Pstatus\"] = (dataset[\"Pstatus\"] == \"T\").astype(int)\n",
    "\n",
    "job_map = {\"teacher\":0, \"health\":1, \"services\":2, \"at_home\":3, \"other\":4}\n",
    "dataset[\"Mjob\"] = dataset[\"Mjob\"].replace(job_map)\n",
    "dataset[\"Fjob\"] = dataset[\"Fjob\"].replace(job_map)\n",
    "\n",
    "reason_map = {\"home\":0, \"reputation\":1, \"course\":2, \"other\":3}\n",
    "dataset[\"reason\"] = dataset[\"reason\"].replace(reason_map)\n",
    "\n",
    "guardian_map = {\"mother\":0, \"father\":1, \"other\":2}\n",
    "dataset[\"guardian\"] = dataset[\"guardian\"].replace(guardian_map)\n",
    "\n",
    "dataset[\"schoolsup\"] = (dataset[\"schoolsup\"] == \"yes\").astype(int)\n",
    "dataset[\"famsup\"] = (dataset[\"famsup\"] == \"yes\").astype(int)\n",
    "dataset[\"paid\"] = (dataset[\"paid\"] == \"yes\").astype(int)\n",
    "dataset[\"activities\"] = (dataset[\"activities\"] == \"yes\").astype(int)\n",
    "dataset[\"nursery\"] = (dataset[\"nursery\"] == \"yes\").astype(int)\n",
    "dataset[\"higher\"] = (dataset[\"higher\"] == \"yes\").astype(int)\n",
    "dataset[\"internet\"] = (dataset[\"internet\"] == \"yes\").astype(int)\n",
    "dataset[\"romantic\"] = (dataset[\"romantic\"] == \"yes\").astype(int)\n",
    "\n",
    "# definir target\n",
    "target = (dataset[\"G3\"] >= 10).astype(int)"
   ]
  },
  {
   "cell_type": "code",
   "execution_count": null,
   "id": "13b8db82-1606-4bb9-8adb-21358504fe39",
   "metadata": {},
   "outputs": [],
   "source": [
    "from sklearn.model_selection import train_test_split\n",
    "# crea conjunto de valores eliminando las notas optenidas ( G1, G2, G3 )\n",
    "X = dataset.copy().drop([\"G1\",\"G2\",\"G3\"], axis=\"columns\")\n",
    "y = target.values\n",
    "\n",
    "X_train, X_test, y_train, y_test = train_test_split(X,y, test_size=.25)"
   ]
  },
  {
   "cell_type": "markdown",
   "id": "58f867e4-e044-4b4e-b246-23285c5f0d98",
   "metadata": {},
   "source": [
    "## Clasificación por medio de árbol de decisiones"
   ]
  },
  {
   "cell_type": "code",
   "execution_count": null,
   "id": "64f53c11-330d-437e-a7be-f6c878c24314",
   "metadata": {},
   "outputs": [],
   "source": [
    "# creamos el clasificador\n",
    "clf = tree.DecisionTreeClassifier()\n",
    "clf.fit(X_train, y_train)"
   ]
  },
  {
   "cell_type": "code",
   "execution_count": null,
   "id": "749b33ef-8817-4f90-875a-2ad4a986737e",
   "metadata": {},
   "outputs": [],
   "source": [
    "# mostramos los parametros por orden de importancia\n",
    "importancia_parametros = pd.DataFrame(clf.feature_importances_, index=X.columns)\n",
    "importancia_parametros.plot(kind=\"bar\")"
   ]
  },
  {
   "cell_type": "code",
   "execution_count": null,
   "id": "2ca831d7-d78f-4fd5-822f-b63a61dd09ce",
   "metadata": {},
   "outputs": [],
   "source": [
    "# gen\n",
    "from matplotlib import pyplot as plt \n",
    "plt.figure(figsize=(100,40))\n",
    "tree_plot = tree.plot_tree(clf, feature_names=X.columns, filled=True, fontsize=7, class_names={0:\"Suspenso\", 1:\"Aprobado\"})"
   ]
  },
  {
   "cell_type": "markdown",
   "id": "c8dde314-42f7-4639-a28f-98c37b113e9a",
   "metadata": {},
   "source": [
    "## Clasificación con redes neuronales"
   ]
  },
  {
   "cell_type": "code",
   "execution_count": null,
   "id": "1fb41a14-d1db-4fd1-801d-0eca2084e3ce",
   "metadata": {},
   "outputs": [],
   "source": [
    "clfNueronal = neural_network.MLPClassifier(max_iter=2000)\n",
    "clfNueronal.fit(X_train, y_train)"
   ]
  },
  {
   "cell_type": "code",
   "execution_count": null,
   "id": "56df1005-fc18-48c5-a3eb-99a8dc285376",
   "metadata": {},
   "outputs": [],
   "source": []
  },
  {
   "cell_type": "code",
   "execution_count": null,
   "id": "d6072be7-e0be-4547-b6e1-31670e663b3e",
   "metadata": {},
   "outputs": [],
   "source": [
    "# mostramos los parametros por orden de importancia\n",
    "clfNueronal.score(X_test,y_test)"
   ]
  }
 ],
 "metadata": {
  "kernelspec": {
   "display_name": "Python 3 (ipykernel)",
   "language": "python",
   "name": "python3"
  },
  "language_info": {
   "codemirror_mode": {
    "name": "ipython",
    "version": 3
   },
   "file_extension": ".py",
   "mimetype": "text/x-python",
   "name": "python",
   "nbconvert_exporter": "python",
   "pygments_lexer": "ipython3",
   "version": "3.11.7"
  }
 },
 "nbformat": 4,
 "nbformat_minor": 5
}
