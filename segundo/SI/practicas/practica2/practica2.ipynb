{
 "cells": [
  {
   "cell_type": "markdown",
   "metadata": {},
   "source": [
    "### Ejercicio 1"
   ]
  },
  {
   "cell_type": "code",
   "execution_count": 1,
   "metadata": {
    "editable": true,
    "slideshow": {
     "slide_type": ""
    },
    "tags": []
   },
   "outputs": [
    {
     "name": "stdout",
     "output_type": "stream",
     "text": [
      "[ 4  8 12 16 20 24 28 32 36 40 44 48 52 56 60 64 68 72 76 80 84 88 92 96]\n"
     ]
    }
   ],
   "source": [
    "import numpy as np\n",
    "array = np.arange(4,100,4)\n",
    "print(array)"
   ]
  },
  {
   "cell_type": "markdown",
   "metadata": {},
   "source": [
    "### Ejercicio 2"
   ]
  },
  {
   "cell_type": "code",
   "execution_count": 2,
   "metadata": {},
   "outputs": [
    {
     "name": "stdout",
     "output_type": "stream",
     "text": [
      "[[ 0  1  2  3]\n",
      " [ 4  5  6  7]\n",
      " [ 8  9 10 11]\n",
      " [12 13 14 15]\n",
      " [16 17 18 19]]\n"
     ]
    }
   ],
   "source": [
    "import numpy as np\n",
    "array = np.arange(20).reshape(5,4)\n",
    "print(array)"
   ]
  },
  {
   "cell_type": "markdown",
   "metadata": {},
   "source": [
    "### Ejercicio 3"
   ]
  },
  {
   "cell_type": "code",
   "execution_count": 3,
   "metadata": {},
   "outputs": [
    {
     "name": "stdout",
     "output_type": "stream",
     "text": [
      "[19 18 17 16 15 14 13 12 11 10  9  8  7  6  5  4  3  2  1  0]\n"
     ]
    }
   ],
   "source": [
    "import numpy as np\n",
    "array = np.arange(20)\n",
    "array = np.flip(array)\n",
    "print(array)"
   ]
  },
  {
   "cell_type": "markdown",
   "metadata": {},
   "source": [
    "### Ejercicio 4"
   ]
  },
  {
   "cell_type": "code",
   "execution_count": 4,
   "metadata": {},
   "outputs": [
    {
     "data": {
      "text/plain": [
       "array([[16, 17, 18, 19],\n",
       "       [12, 13, 14, 15],\n",
       "       [ 8,  9, 10, 11],\n",
       "       [ 4,  5,  6,  7],\n",
       "       [ 0,  1,  2,  3]])"
      ]
     },
     "execution_count": 4,
     "metadata": {},
     "output_type": "execute_result"
    }
   ],
   "source": [
    "import numpy as np\n",
    "def invertir_filas(array):\n",
    "    return np.flip(array,axis=0)\n",
    "array = np.arange(20).reshape(5,4)\n",
    "invertir_filas(array)"
   ]
  },
  {
   "cell_type": "markdown",
   "metadata": {},
   "source": [
    "### Ejercicio 5"
   ]
  },
  {
   "cell_type": "code",
   "execution_count": 5,
   "metadata": {},
   "outputs": [
    {
     "name": "stdout",
     "output_type": "stream",
     "text": [
      "[4.5 5.5 6.5]\n"
     ]
    }
   ],
   "source": [
    "import numpy as np\n",
    "array = np.arange(12).reshape(4, 3)\n",
    "medias = np.mean(array, axis=0)\n",
    "print(medias)"
   ]
  },
  {
   "cell_type": "markdown",
   "metadata": {},
   "source": [
    "### Ejercicio 6"
   ]
  },
  {
   "cell_type": "code",
   "execution_count": 6,
   "metadata": {},
   "outputs": [
    {
     "name": "stdout",
     "output_type": "stream",
     "text": [
      "[[ 0  1  2]\n",
      " [ 3  4  5]\n",
      " [ 6  7  8]\n",
      " [ 9 10 11]]\n"
     ]
    }
   ],
   "source": [
    "import numpy as np\n",
    "array = np.arange(12)\n",
    "def redimensionar(array):\n",
    "    return array.reshape(4,3)\n",
    "print(redimensionar(array))"
   ]
  },
  {
   "cell_type": "markdown",
   "metadata": {},
   "source": [
    "### Ejercicio 7"
   ]
  },
  {
   "cell_type": "code",
   "execution_count": 7,
   "metadata": {},
   "outputs": [
    {
     "name": "stdout",
     "output_type": "stream",
     "text": [
      "[[ 0  1  2  3  4]\n",
      " [ 5  6  7  8  9]\n",
      " [10 11 12 13 14]\n",
      " [15 16 17 18 19]\n",
      " [20 21 22 23 24]]\n"
     ]
    }
   ],
   "source": [
    "import numpy as np\n",
    "def redimensionar(array):\n",
    "    longitud = len(array)\n",
    "    if(np.sqrt(longitud).is_integer()):\n",
    "        seccion = int(np.sqrt(longitud))\n",
    "        print(array.reshape(seccion,seccion))\n",
    "    else:\n",
    "        print(\"No se puede redimensionar\")\n",
    "array = np.arange(25)\n",
    "redimensionar(array)"
   ]
  },
  {
   "cell_type": "markdown",
   "metadata": {},
   "source": [
    "### Ejercicio 8"
   ]
  },
  {
   "cell_type": "code",
   "execution_count": 8,
   "metadata": {},
   "outputs": [
    {
     "name": "stdout",
     "output_type": "stream",
     "text": [
      "[[ 0  1  2  3  4]\n",
      " [ 5  6  7  8  9]\n",
      " [10 11 12 13 14]\n",
      " [15 16 17 18 19]]\n"
     ]
    },
    {
     "data": {
      "text/plain": [
       "array([ 4,  9, 14, 19])"
      ]
     },
     "execution_count": 8,
     "metadata": {},
     "output_type": "execute_result"
    }
   ],
   "source": [
    "import numpy as np\n",
    "def maximo_de_fila(array):\n",
    "    return np.max(array,axis=1)\n",
    "array = np.arange(20).reshape(4,5)\n",
    "print(array)\n",
    "maximo_de_fila(array)"
   ]
  },
  {
   "cell_type": "markdown",
   "metadata": {},
   "source": [
    "### Ejercicio 9"
   ]
  },
  {
   "cell_type": "code",
   "execution_count": 9,
   "metadata": {},
   "outputs": [
    {
     "data": {
      "text/plain": [
       "[(1, 3), (2, 2), (3, 4)]"
      ]
     },
     "execution_count": 9,
     "metadata": {},
     "output_type": "execute_result"
    }
   ],
   "source": [
    "import numpy as np\n",
    "def contar_valores(array):\n",
    "    valores, cuenta = np.unique(array, return_counts=True)\n",
    "    cuenta = zip(valores,cuenta)\n",
    "    return [a for a in cuenta]\n",
    "array = np.array([1,1,1,2,2,3,3,3,3])\n",
    "contar_valores(array)"
   ]
  },
  {
   "cell_type": "markdown",
   "metadata": {},
   "source": [
    "### Ejercicio 10"
   ]
  },
  {
   "cell_type": "code",
   "execution_count": 10,
   "metadata": {},
   "outputs": [
    {
     "name": "stdout",
     "output_type": "stream",
     "text": [
      "[[ 0  1  2]\n",
      " [ 3  4  5]\n",
      " [ 6  7  8]\n",
      " [ 9 10 11]]\n"
     ]
    },
    {
     "data": {
      "text/plain": [
       "array([[-1.34164079, -1.34164079, -1.34164079],\n",
       "       [-0.4472136 , -0.4472136 , -0.4472136 ],\n",
       "       [ 0.4472136 ,  0.4472136 ,  0.4472136 ],\n",
       "       [ 1.34164079,  1.34164079,  1.34164079]])"
      ]
     },
     "execution_count": 10,
     "metadata": {},
     "output_type": "execute_result"
    }
   ],
   "source": [
    "import numpy as np\n",
    "def normalizar_array(array):\n",
    "    print(array)\n",
    "    media = np.mean(array, axis=0 )\n",
    "    desviacion = np.std(array, axis=0)\n",
    "    return (array-media)/desviacion\n",
    "array = np.arange(12).reshape(4,3)\n",
    "normalizar_array(array)"
   ]
  },
  {
   "cell_type": "markdown",
   "metadata": {},
   "source": [
    "### Ejericicio 11"
   ]
  },
  {
   "cell_type": "code",
   "execution_count": 11,
   "metadata": {},
   "outputs": [
    {
     "name": "stdout",
     "output_type": "stream",
     "text": [
      "[[ 0  1  2]\n",
      " [ 3  4  5]\n",
      " [ 6  7  8]\n",
      " [ 9 10 11]]\n"
     ]
    },
    {
     "data": {
      "text/plain": [
       "array([[-0.2981424,  0.       ,  0.2981424],\n",
       "       [-0.2981424,  0.       ,  0.2981424],\n",
       "       [-0.2981424,  0.       ,  0.2981424],\n",
       "       [-0.2981424,  0.       ,  0.2981424]])"
      ]
     },
     "execution_count": 11,
     "metadata": {},
     "output_type": "execute_result"
    }
   ],
   "source": [
    "import numpy as np\n",
    "def normalizar_array(array):\n",
    "    print(array)\n",
    "    media = np.mean(array, axis=1, keepdims=1)\n",
    "    desviacion = np.std(array, axis=0, keepdims=1)\n",
    "    return (array-media)/desviacion\n",
    "array = np.arange(12).reshape(4,3)\n",
    "normalizar_array(array)"
   ]
  },
  {
   "cell_type": "markdown",
   "metadata": {},
   "source": [
    "### Ejercicio 12"
   ]
  },
  {
   "cell_type": "code",
   "execution_count": 12,
   "metadata": {},
   "outputs": [
    {
     "data": {
      "text/plain": [
       "((2, 0), (2, 2))"
      ]
     },
     "execution_count": 12,
     "metadata": {},
     "output_type": "execute_result"
    }
   ],
   "source": [
    "import numpy as np\n",
    "def get_max_min_idx(array):\n",
    "    minIdx = np.unravel_index(np.argmin(array), array.shape)\n",
    "    maxIdx = np.unravel_index(np.argmax(array), array.shape)\n",
    "    return (minIdx,maxIdx)\n",
    "array = np.array([[2,5,4],[5,2,6],[1,2,8]])\n",
    "get_max_min_idx(array)"
   ]
  },
  {
   "cell_type": "markdown",
   "metadata": {},
   "source": [
    "### Ejercicio 13"
   ]
  },
  {
   "cell_type": "code",
   "execution_count": 13,
   "metadata": {},
   "outputs": [
    {
     "data": {
      "text/plain": [
       "array([[4, 1, 2],\n",
       "       [8, 5, 3],\n",
       "       [9, 3, 7]])"
      ]
     },
     "execution_count": 13,
     "metadata": {},
     "output_type": "execute_result"
    }
   ],
   "source": [
    "import numpy as np\n",
    "def sort_by_first_col(array):\n",
    "    indices = np.argsort(array[:,0])\n",
    "    return array[indices]\n",
    "    \n",
    "array = np.array([[8,5,3],[9,3,7],[4,1,2]])\n",
    "sort_by_first_col(array)\n",
    "\n"
   ]
  },
  {
   "cell_type": "markdown",
   "metadata": {},
   "source": [
    "### Ejercicio 14"
   ]
  },
  {
   "cell_type": "code",
   "execution_count": 14,
   "metadata": {},
   "outputs": [
    {
     "data": {
      "text/plain": [
       "array([[0.        , 0.        , 0.6101138 , 1.08001778, 0.        ],\n",
       "       [0.        , 0.        , 0.18185063, 1.55167391, 0.        ],\n",
       "       [0.71289811, 0.        , 0.        , 0.64666258, 0.        ],\n",
       "       [0.30164312, 0.06312479, 0.        , 0.        , 0.43244573],\n",
       "       [0.38074126, 0.        , 0.48048773, 0.        , 0.        ],\n",
       "       [0.        , 0.        , 0.45339343, 0.        , 0.13805296],\n",
       "       [0.        , 0.24609578, 0.        , 0.        , 0.40976185]])"
      ]
     },
     "execution_count": 14,
     "metadata": {},
     "output_type": "execute_result"
    }
   ],
   "source": [
    "import numpy as np\n",
    "def generate_matrix(filas, columnas):\n",
    "    array = np.random.randn(filas,columnas)\n",
    "    array[array<0] = 0\n",
    "    return array\n",
    "generate_matrix(7,5)"
   ]
  },
  {
   "cell_type": "markdown",
   "metadata": {},
   "source": [
    "### Ejercicio 15"
   ]
  },
  {
   "cell_type": "code",
   "execution_count": 15,
   "metadata": {},
   "outputs": [
    {
     "data": {
      "text/plain": [
       "array([4, 0, 2, 1])"
      ]
     },
     "execution_count": 15,
     "metadata": {},
     "output_type": "execute_result"
    }
   ],
   "source": [
    "import numpy as np\n",
    "def max_n_numbers(array, k):\n",
    "    if k <= 0:\n",
    "        print(\"Valor no valido\")\n",
    "    else:\n",
    "        indices = np.argsort(array)[::-1]\n",
    "        return indices[:k]\n",
    "\n",
    "array = np.array([10,5,7,2,34])\n",
    "max_n_numbers(array,4)"
   ]
  },
  {
   "cell_type": "markdown",
   "metadata": {},
   "source": [
    "### Ejercicio 16"
   ]
  },
  {
   "cell_type": "code",
   "execution_count": 16,
   "metadata": {},
   "outputs": [
    {
     "data": {
      "text/plain": [
       "array([[0.        , 0.        , 0.53945084, 0.08680427, 1.        ,\n",
       "        1.        , 1.        ],\n",
       "       [0.        , 0.        , 0.73068789, 0.171894  , 1.        ,\n",
       "        1.        , 1.        ],\n",
       "       [0.        , 0.        , 0.54844779, 0.44163041, 1.        ,\n",
       "        1.        , 1.        ],\n",
       "       [0.        , 0.        , 0.94075276, 0.65247955, 1.        ,\n",
       "        1.        , 1.        ],\n",
       "       [0.        , 0.        , 0.29097841, 0.90076955, 1.        ,\n",
       "        1.        , 1.        ],\n",
       "       [0.        , 0.        , 0.02800137, 0.14324393, 1.        ,\n",
       "        1.        , 1.        ]])"
      ]
     },
     "execution_count": 16,
     "metadata": {},
     "output_type": "execute_result"
    }
   ],
   "source": [
    "import numpy as np\n",
    "def generate_matrix(filas, columnas):\n",
    "    array = np.random.uniform(size=(filas,columnas))\n",
    "    array[:,:2] = 0\n",
    "    array[:,-3:] = 1\n",
    "    return array\n",
    "generate_matrix(6,7)"
   ]
  }
 ],
 "metadata": {
  "kernelspec": {
   "display_name": "Python 3 (ipykernel)",
   "language": "python",
   "name": "python3"
  },
  "language_info": {
   "codemirror_mode": {
    "name": "ipython",
    "version": 3
   },
   "file_extension": ".py",
   "mimetype": "text/x-python",
   "name": "python",
   "nbconvert_exporter": "python",
   "pygments_lexer": "ipython3",
   "version": "3.12.3"
  }
 },
 "nbformat": 4,
 "nbformat_minor": 4
}
