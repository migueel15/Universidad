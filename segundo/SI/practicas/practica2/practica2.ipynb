{
  "metadata": {
    "kernelspec": {
      "name": "python",
      "display_name": "Python (Pyodide)",
      "language": "python"
    },
    "language_info": {
      "codemirror_mode": {
        "name": "python",
        "version": 3
      },
      "file_extension": ".py",
      "mimetype": "text/x-python",
      "name": "python",
      "nbconvert_exporter": "python",
      "pygments_lexer": "ipython3",
      "version": "3.8"
    }
  },
  "nbformat_minor": 4,
  "nbformat": 4,
  "cells": [
    {
      "cell_type": "markdown",
      "source": "### Ejercicio 1",
      "metadata": {}
    },
    {
      "cell_type": "code",
      "source": "import numpy as np\narray = np.arange(0,100,4)\nprint(array)",
      "metadata": {
        "trusted": true,
        "tags": [],
        "editable": true,
        "slideshow": {
          "slide_type": ""
        }
      },
      "outputs": [
        {
          "name": "stdout",
          "text": "[ 0  4  8 12 16 20 24 28 32 36 40 44 48 52 56 60 64 68 72 76 80 84 88 92\n 96]\n",
          "output_type": "stream"
        }
      ],
      "execution_count": 1
    },
    {
      "cell_type": "markdown",
      "source": "### Ejercicio 2",
      "metadata": {}
    },
    {
      "cell_type": "code",
      "source": "import numpy as np\narray = np.arange(20).reshape(5,4)\nprint(array)",
      "metadata": {
        "trusted": true
      },
      "outputs": [
        {
          "name": "stdout",
          "text": "[[ 0  1  2  3]\n [ 4  5  6  7]\n [ 8  9 10 11]\n [12 13 14 15]\n [16 17 18 19]]\n",
          "output_type": "stream"
        }
      ],
      "execution_count": 4
    },
    {
      "cell_type": "markdown",
      "source": "### Ejercicio 3",
      "metadata": {}
    },
    {
      "cell_type": "code",
      "source": "import numpy as np\narray = np.arange(20)\narray = np.flip(array)\nprint(array)",
      "metadata": {
        "trusted": true
      },
      "outputs": [
        {
          "name": "stdout",
          "text": "[19 18 17 16 15 14 13 12 11 10  9  8  7  6  5  4  3  2  1  0]\n",
          "output_type": "stream"
        }
      ],
      "execution_count": 5
    },
    {
      "cell_type": "markdown",
      "source": "### Ejercicio 4",
      "metadata": {}
    },
    {
      "cell_type": "code",
      "source": "import numpy as np\ndef invertir_filas(array):\n    return np.flip(array,axis=0)\narray = np.arange(20).reshape(5,4)\ninvertir_filas(array)",
      "metadata": {
        "trusted": true
      },
      "outputs": [
        {
          "execution_count": 35,
          "output_type": "execute_result",
          "data": {
            "text/plain": "array([[16, 17, 18, 19],\n       [12, 13, 14, 15],\n       [ 8,  9, 10, 11],\n       [ 4,  5,  6,  7],\n       [ 0,  1,  2,  3]])"
          },
          "metadata": {}
        }
      ],
      "execution_count": 35
    },
    {
      "cell_type": "markdown",
      "source": "### Ejercicio 5",
      "metadata": {}
    },
    {
      "cell_type": "code",
      "source": "import numpy as np\narray = np.arange(12).reshape(4, 3)\nmedias = np.mean(array, axis=0)\nprint(medias)",
      "metadata": {
        "trusted": true
      },
      "outputs": [
        {
          "name": "stdout",
          "text": "[4.5 5.5 6.5]\n",
          "output_type": "stream"
        }
      ],
      "execution_count": 6
    },
    {
      "cell_type": "markdown",
      "source": "### Ejercicio 6",
      "metadata": {}
    },
    {
      "cell_type": "code",
      "source": "import numpy as np\narray = np.arange(12)\ndef redimensionar(array):\n    return array.reshape(4,3)\nprint(redimensionar(array))",
      "metadata": {
        "trusted": true
      },
      "outputs": [
        {
          "name": "stdout",
          "text": "[[ 0  1  2]\n [ 3  4  5]\n [ 6  7  8]\n [ 9 10 11]]\n",
          "output_type": "stream"
        }
      ],
      "execution_count": 7
    },
    {
      "cell_type": "markdown",
      "source": "### Ejercicio 7",
      "metadata": {}
    },
    {
      "cell_type": "code",
      "source": "import numpy as np\ndef redimensionar(array):\n    longitud = len(array)\n    if(np.sqrt(longitud) **2 == longitud):\n        seccion = int(np.sqrt(longitud))\n        print(array.reshape(seccion,seccion))\n    else:\n        print(\"No se puede redimensionar\")\narray = np.arange(25)\nredimensionar(array)",
      "metadata": {
        "trusted": true
      },
      "outputs": [
        {
          "name": "stdout",
          "text": "[[ 0  1  2  3  4]\n [ 5  6  7  8  9]\n [10 11 12 13 14]\n [15 16 17 18 19]\n [20 21 22 23 24]]\n",
          "output_type": "stream"
        }
      ],
      "execution_count": 29
    },
    {
      "cell_type": "markdown",
      "source": "### Ejercicio 8",
      "metadata": {}
    },
    {
      "cell_type": "code",
      "source": "import numpy as np\ndef maximo_de_fila(array):\n    return np.max(array,axis=1)\narray = np.arange(20).reshape(4,5)\nmaximo_de_fila(array)",
      "metadata": {
        "trusted": true
      },
      "outputs": [
        {
          "execution_count": 41,
          "output_type": "execute_result",
          "data": {
            "text/plain": "array([ 4,  9, 14, 19])"
          },
          "metadata": {}
        }
      ],
      "execution_count": 41
    },
    {
      "cell_type": "markdown",
      "source": "### Ejercicio 9",
      "metadata": {}
    },
    {
      "cell_type": "code",
      "source": "import numpy as np\ndef contar_valores(array):\n    valores, cuenta = np.unique(array, return_counts=True)\n    cuenta = zip(valores,cuenta)\n    return [a for a in cuenta]\narray = np.array([1,1,1,2,2,3,3,3,3])\ncontar_valores(array)",
      "metadata": {
        "trusted": true
      },
      "outputs": [
        {
          "execution_count": 69,
          "output_type": "execute_result",
          "data": {
            "text/plain": "[(1, 3), (2, 2), (3, 4)]"
          },
          "metadata": {}
        }
      ],
      "execution_count": 69
    },
    {
      "cell_type": "markdown",
      "source": "### Ejercicio 10",
      "metadata": {}
    },
    {
      "cell_type": "code",
      "source": "import numpy as np\ndef normalizar_array(array):\n    media = np.mean(array)\n    desviacion = np.std(array)\n    return array-media/desviacion\narray = np.arange(12).reshape(4,3)\nnormalizar_array(array)",
      "metadata": {
        "trusted": true
      },
      "outputs": [
        {
          "execution_count": 74,
          "output_type": "execute_result",
          "data": {
            "text/plain": "array([[-1.59325501, -0.59325501,  0.40674499],\n       [ 1.40674499,  2.40674499,  3.40674499],\n       [ 4.40674499,  5.40674499,  6.40674499],\n       [ 7.40674499,  8.40674499,  9.40674499]])"
          },
          "metadata": {}
        }
      ],
      "execution_count": 74
    }
  ]
}