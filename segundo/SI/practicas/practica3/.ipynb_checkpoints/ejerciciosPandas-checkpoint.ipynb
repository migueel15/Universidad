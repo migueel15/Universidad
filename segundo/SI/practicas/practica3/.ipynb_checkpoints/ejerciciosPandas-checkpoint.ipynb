{
 "cells": [
  {
   "cell_type": "markdown",
   "id": "5b20769a-33dd-443c-8339-2d7dc4289446",
   "metadata": {},
   "source": [
    "### Import pandas"
   ]
  },
  {
   "cell_type": "code",
   "execution_count": 4,
   "id": "68acda63-bb72-4076-8c03-658be8b5af06",
   "metadata": {},
   "outputs": [],
   "source": [
    "import pandas as pd"
   ]
  },
  {
   "cell_type": "markdown",
   "id": "6f79d58a-165c-47f7-984f-e222f6578e7a",
   "metadata": {},
   "source": [
    "### Import csv"
   ]
  },
  {
   "cell_type": "code",
   "execution_count": 12,
   "id": "ff8291fa-2be3-4a35-85e9-c778da610bf1",
   "metadata": {},
   "outputs": [],
   "source": [
    "df = pd.read_csv(\"./bmw.csv\")"
   ]
  },
  {
   "cell_type": "markdown",
   "id": "28d64ece-ce22-4561-9990-3ad091c7a4d1",
   "metadata": {},
   "source": [
    "### Ejercicio 1"
   ]
  },
  {
   "cell_type": "code",
   "execution_count": 7,
   "id": "9978543d-b2b9-46f4-8505-64c06c16ceb0",
   "metadata": {},
   "outputs": [
    {
     "data": {
      "text/html": [
       "<div>\n",
       "<style scoped>\n",
       "    .dataframe tbody tr th:only-of-type {\n",
       "        vertical-align: middle;\n",
       "    }\n",
       "\n",
       "    .dataframe tbody tr th {\n",
       "        vertical-align: top;\n",
       "    }\n",
       "\n",
       "    .dataframe thead th {\n",
       "        text-align: right;\n",
       "    }\n",
       "</style>\n",
       "<table border=\"1\" class=\"dataframe\">\n",
       "  <thead>\n",
       "    <tr style=\"text-align: right;\">\n",
       "      <th></th>\n",
       "      <th>model</th>\n",
       "      <th>year</th>\n",
       "      <th>price</th>\n",
       "      <th>transmission</th>\n",
       "      <th>mileage</th>\n",
       "      <th>fuelType</th>\n",
       "      <th>tax</th>\n",
       "      <th>mpg</th>\n",
       "      <th>engineSize</th>\n",
       "    </tr>\n",
       "  </thead>\n",
       "  <tbody>\n",
       "    <tr>\n",
       "      <th>0</th>\n",
       "      <td>5 Series</td>\n",
       "      <td>2014</td>\n",
       "      <td>11200</td>\n",
       "      <td>Automatic</td>\n",
       "      <td>67068</td>\n",
       "      <td>Diesel</td>\n",
       "      <td>125</td>\n",
       "      <td>57.6</td>\n",
       "      <td>2.0</td>\n",
       "    </tr>\n",
       "    <tr>\n",
       "      <th>1</th>\n",
       "      <td>6 Series</td>\n",
       "      <td>2018</td>\n",
       "      <td>27000</td>\n",
       "      <td>Automatic</td>\n",
       "      <td>14827</td>\n",
       "      <td>Petrol</td>\n",
       "      <td>145</td>\n",
       "      <td>42.8</td>\n",
       "      <td>2.0</td>\n",
       "    </tr>\n",
       "    <tr>\n",
       "      <th>2</th>\n",
       "      <td>5 Series</td>\n",
       "      <td>2016</td>\n",
       "      <td>16000</td>\n",
       "      <td>Automatic</td>\n",
       "      <td>62794</td>\n",
       "      <td>Diesel</td>\n",
       "      <td>160</td>\n",
       "      <td>51.4</td>\n",
       "      <td>3.0</td>\n",
       "    </tr>\n",
       "    <tr>\n",
       "      <th>3</th>\n",
       "      <td>1 Series</td>\n",
       "      <td>2017</td>\n",
       "      <td>12750</td>\n",
       "      <td>Automatic</td>\n",
       "      <td>26676</td>\n",
       "      <td>Diesel</td>\n",
       "      <td>145</td>\n",
       "      <td>72.4</td>\n",
       "      <td>1.5</td>\n",
       "    </tr>\n",
       "    <tr>\n",
       "      <th>4</th>\n",
       "      <td>7 Series</td>\n",
       "      <td>2014</td>\n",
       "      <td>14500</td>\n",
       "      <td>Automatic</td>\n",
       "      <td>39554</td>\n",
       "      <td>Diesel</td>\n",
       "      <td>160</td>\n",
       "      <td>50.4</td>\n",
       "      <td>3.0</td>\n",
       "    </tr>\n",
       "    <tr>\n",
       "      <th>5</th>\n",
       "      <td>5 Series</td>\n",
       "      <td>2016</td>\n",
       "      <td>14900</td>\n",
       "      <td>Automatic</td>\n",
       "      <td>35309</td>\n",
       "      <td>Diesel</td>\n",
       "      <td>125</td>\n",
       "      <td>60.1</td>\n",
       "      <td>2.0</td>\n",
       "    </tr>\n",
       "    <tr>\n",
       "      <th>6</th>\n",
       "      <td>5 Series</td>\n",
       "      <td>2017</td>\n",
       "      <td>16000</td>\n",
       "      <td>Automatic</td>\n",
       "      <td>38538</td>\n",
       "      <td>Diesel</td>\n",
       "      <td>125</td>\n",
       "      <td>60.1</td>\n",
       "      <td>2.0</td>\n",
       "    </tr>\n",
       "    <tr>\n",
       "      <th>7</th>\n",
       "      <td>2 Series</td>\n",
       "      <td>2018</td>\n",
       "      <td>16250</td>\n",
       "      <td>Manual</td>\n",
       "      <td>10401</td>\n",
       "      <td>Petrol</td>\n",
       "      <td>145</td>\n",
       "      <td>52.3</td>\n",
       "      <td>1.5</td>\n",
       "    </tr>\n",
       "    <tr>\n",
       "      <th>8</th>\n",
       "      <td>4 Series</td>\n",
       "      <td>2017</td>\n",
       "      <td>14250</td>\n",
       "      <td>Manual</td>\n",
       "      <td>42668</td>\n",
       "      <td>Diesel</td>\n",
       "      <td>30</td>\n",
       "      <td>62.8</td>\n",
       "      <td>2.0</td>\n",
       "    </tr>\n",
       "    <tr>\n",
       "      <th>9</th>\n",
       "      <td>5 Series</td>\n",
       "      <td>2016</td>\n",
       "      <td>14250</td>\n",
       "      <td>Automatic</td>\n",
       "      <td>36099</td>\n",
       "      <td>Diesel</td>\n",
       "      <td>20</td>\n",
       "      <td>68.9</td>\n",
       "      <td>2.0</td>\n",
       "    </tr>\n",
       "  </tbody>\n",
       "</table>\n",
       "</div>"
      ],
      "text/plain": [
       "       model  year  price transmission  mileage fuelType  tax   mpg  \\\n",
       "0   5 Series  2014  11200    Automatic    67068   Diesel  125  57.6   \n",
       "1   6 Series  2018  27000    Automatic    14827   Petrol  145  42.8   \n",
       "2   5 Series  2016  16000    Automatic    62794   Diesel  160  51.4   \n",
       "3   1 Series  2017  12750    Automatic    26676   Diesel  145  72.4   \n",
       "4   7 Series  2014  14500    Automatic    39554   Diesel  160  50.4   \n",
       "5   5 Series  2016  14900    Automatic    35309   Diesel  125  60.1   \n",
       "6   5 Series  2017  16000    Automatic    38538   Diesel  125  60.1   \n",
       "7   2 Series  2018  16250       Manual    10401   Petrol  145  52.3   \n",
       "8   4 Series  2017  14250       Manual    42668   Diesel   30  62.8   \n",
       "9   5 Series  2016  14250    Automatic    36099   Diesel   20  68.9   \n",
       "\n",
       "   engineSize  \n",
       "0         2.0  \n",
       "1         2.0  \n",
       "2         3.0  \n",
       "3         1.5  \n",
       "4         3.0  \n",
       "5         2.0  \n",
       "6         2.0  \n",
       "7         1.5  \n",
       "8         2.0  \n",
       "9         2.0  "
      ]
     },
     "execution_count": 7,
     "metadata": {},
     "output_type": "execute_result"
    }
   ],
   "source": [
    "df[:10]"
   ]
  },
  {
   "cell_type": "markdown",
   "id": "3c37ace0-c1de-43f0-9629-de07547730b3",
   "metadata": {},
   "source": [
    "### Ejercicio 2"
   ]
  },
  {
   "cell_type": "code",
   "execution_count": 48,
   "id": "5018fcb1-e25b-4c93-a7e4-c74ec52b9abd",
   "metadata": {},
   "outputs": [
    {
     "name": "stdout",
     "output_type": "stream",
     "text": [
      "Tipo: int64 ; Size: 10781\n"
     ]
    }
   ],
   "source": [
    "serie = df[\"year\"]\n",
    "size = serie.size\n",
    "tipo = serie.dtype\n",
    "print(\"Tipo:\",tipo, \"; Size:\",size)"
   ]
  },
  {
   "cell_type": "markdown",
   "id": "5306b57e-6af7-4e9d-b52e-329be887fc38",
   "metadata": {},
   "source": [
    "### Ejercicio 3"
   ]
  },
  {
   "cell_type": "code",
   "execution_count": 54,
   "id": "ac9c15a6-14f3-45bc-8290-a8d2eb35b586",
   "metadata": {},
   "outputs": [
    {
     "data": {
      "text/plain": [
       "7        10401\n",
       "14       19057\n",
       "21       78957\n",
       "28       96213\n",
       "35       61818\n",
       "         ...  \n",
       "10752    41500\n",
       "10759    54008\n",
       "10766    54987\n",
       "10773    60372\n",
       "10780    59432\n",
       "Name: mileage, Length: 1540, dtype: int64"
      ]
     },
     "execution_count": 54,
     "metadata": {},
     "output_type": "execute_result"
    }
   ],
   "source": [
    "serie = df[\"mileage\"]\n",
    "serie[7::7]"
   ]
  },
  {
   "cell_type": "markdown",
   "id": "50cb4561-a995-4623-9585-835b3b440b22",
   "metadata": {},
   "source": [
    "### Ejercicio 4"
   ]
  },
  {
   "cell_type": "code",
   "execution_count": 62,
   "id": "0338f1b2-bc49-4e7a-97ae-1e808339cb3b",
   "metadata": {},
   "outputs": [
    {
     "data": {
      "text/html": [
       "<div>\n",
       "<style scoped>\n",
       "    .dataframe tbody tr th:only-of-type {\n",
       "        vertical-align: middle;\n",
       "    }\n",
       "\n",
       "    .dataframe tbody tr th {\n",
       "        vertical-align: top;\n",
       "    }\n",
       "\n",
       "    .dataframe thead th {\n",
       "        text-align: right;\n",
       "    }\n",
       "</style>\n",
       "<table border=\"1\" class=\"dataframe\">\n",
       "  <thead>\n",
       "    <tr style=\"text-align: right;\">\n",
       "      <th></th>\n",
       "      <th>model</th>\n",
       "      <th>year</th>\n",
       "      <th>price</th>\n",
       "      <th>transmission</th>\n",
       "      <th>mileage</th>\n",
       "      <th>fuelType</th>\n",
       "      <th>tax</th>\n",
       "      <th>mpg</th>\n",
       "      <th>engineSize</th>\n",
       "    </tr>\n",
       "  </thead>\n",
       "  <tbody>\n",
       "    <tr>\n",
       "      <th>8707</th>\n",
       "      <td>1 Series</td>\n",
       "      <td>2016</td>\n",
       "      <td>11000</td>\n",
       "      <td>Manual</td>\n",
       "      <td>34683</td>\n",
       "      <td>Diesel</td>\n",
       "      <td>0</td>\n",
       "      <td>83.1</td>\n",
       "      <td>1.5</td>\n",
       "    </tr>\n",
       "    <tr>\n",
       "      <th>8785</th>\n",
       "      <td>4 Series</td>\n",
       "      <td>2019</td>\n",
       "      <td>28500</td>\n",
       "      <td>Automatic</td>\n",
       "      <td>5123</td>\n",
       "      <td>Petrol</td>\n",
       "      <td>145</td>\n",
       "      <td>48.7</td>\n",
       "      <td>2.0</td>\n",
       "    </tr>\n",
       "    <tr>\n",
       "      <th>2263</th>\n",
       "      <td>Z4</td>\n",
       "      <td>2020</td>\n",
       "      <td>35850</td>\n",
       "      <td>Semi-Auto</td>\n",
       "      <td>5</td>\n",
       "      <td>Petrol</td>\n",
       "      <td>145</td>\n",
       "      <td>37.2</td>\n",
       "      <td>2.0</td>\n",
       "    </tr>\n",
       "    <tr>\n",
       "      <th>8292</th>\n",
       "      <td>1 Series</td>\n",
       "      <td>2019</td>\n",
       "      <td>23499</td>\n",
       "      <td>Automatic</td>\n",
       "      <td>9112</td>\n",
       "      <td>Petrol</td>\n",
       "      <td>145</td>\n",
       "      <td>39.8</td>\n",
       "      <td>3.0</td>\n",
       "    </tr>\n",
       "    <tr>\n",
       "      <th>4304</th>\n",
       "      <td>X6</td>\n",
       "      <td>2019</td>\n",
       "      <td>40980</td>\n",
       "      <td>Automatic</td>\n",
       "      <td>4155</td>\n",
       "      <td>Diesel</td>\n",
       "      <td>145</td>\n",
       "      <td>44.8</td>\n",
       "      <td>3.0</td>\n",
       "    </tr>\n",
       "    <tr>\n",
       "      <th>...</th>\n",
       "      <td>...</td>\n",
       "      <td>...</td>\n",
       "      <td>...</td>\n",
       "      <td>...</td>\n",
       "      <td>...</td>\n",
       "      <td>...</td>\n",
       "      <td>...</td>\n",
       "      <td>...</td>\n",
       "      <td>...</td>\n",
       "    </tr>\n",
       "    <tr>\n",
       "      <th>4719</th>\n",
       "      <td>5 Series</td>\n",
       "      <td>2019</td>\n",
       "      <td>29950</td>\n",
       "      <td>Semi-Auto</td>\n",
       "      <td>4043</td>\n",
       "      <td>Diesel</td>\n",
       "      <td>145</td>\n",
       "      <td>60.1</td>\n",
       "      <td>2.0</td>\n",
       "    </tr>\n",
       "    <tr>\n",
       "      <th>2492</th>\n",
       "      <td>X1</td>\n",
       "      <td>2017</td>\n",
       "      <td>19990</td>\n",
       "      <td>Semi-Auto</td>\n",
       "      <td>18754</td>\n",
       "      <td>Diesel</td>\n",
       "      <td>150</td>\n",
       "      <td>65.7</td>\n",
       "      <td>2.0</td>\n",
       "    </tr>\n",
       "    <tr>\n",
       "      <th>9900</th>\n",
       "      <td>1 Series</td>\n",
       "      <td>2014</td>\n",
       "      <td>11990</td>\n",
       "      <td>Automatic</td>\n",
       "      <td>24500</td>\n",
       "      <td>Petrol</td>\n",
       "      <td>145</td>\n",
       "      <td>48.7</td>\n",
       "      <td>1.6</td>\n",
       "    </tr>\n",
       "    <tr>\n",
       "      <th>773</th>\n",
       "      <td>5 Series</td>\n",
       "      <td>2017</td>\n",
       "      <td>23898</td>\n",
       "      <td>Semi-Auto</td>\n",
       "      <td>46954</td>\n",
       "      <td>Diesel</td>\n",
       "      <td>145</td>\n",
       "      <td>60.1</td>\n",
       "      <td>3.0</td>\n",
       "    </tr>\n",
       "    <tr>\n",
       "      <th>9115</th>\n",
       "      <td>3 Series</td>\n",
       "      <td>2019</td>\n",
       "      <td>28488</td>\n",
       "      <td>Automatic</td>\n",
       "      <td>5741</td>\n",
       "      <td>Diesel</td>\n",
       "      <td>145</td>\n",
       "      <td>48.7</td>\n",
       "      <td>2.0</td>\n",
       "    </tr>\n",
       "  </tbody>\n",
       "</table>\n",
       "<p>4312 rows × 9 columns</p>\n",
       "</div>"
      ],
      "text/plain": [
       "          model  year  price transmission  mileage fuelType  tax   mpg  \\\n",
       "8707   1 Series  2016  11000       Manual    34683   Diesel    0  83.1   \n",
       "8785   4 Series  2019  28500    Automatic     5123   Petrol  145  48.7   \n",
       "2263         Z4  2020  35850    Semi-Auto        5   Petrol  145  37.2   \n",
       "8292   1 Series  2019  23499    Automatic     9112   Petrol  145  39.8   \n",
       "4304         X6  2019  40980    Automatic     4155   Diesel  145  44.8   \n",
       "...         ...   ...    ...          ...      ...      ...  ...   ...   \n",
       "4719   5 Series  2019  29950    Semi-Auto     4043   Diesel  145  60.1   \n",
       "2492         X1  2017  19990    Semi-Auto    18754   Diesel  150  65.7   \n",
       "9900   1 Series  2014  11990    Automatic    24500   Petrol  145  48.7   \n",
       "773    5 Series  2017  23898    Semi-Auto    46954   Diesel  145  60.1   \n",
       "9115   3 Series  2019  28488    Automatic     5741   Diesel  145  48.7   \n",
       "\n",
       "      engineSize  \n",
       "8707         1.5  \n",
       "8785         2.0  \n",
       "2263         2.0  \n",
       "8292         3.0  \n",
       "4304         3.0  \n",
       "...          ...  \n",
       "4719         2.0  \n",
       "2492         2.0  \n",
       "9900         1.6  \n",
       "773          3.0  \n",
       "9115         2.0  \n",
       "\n",
       "[4312 rows x 9 columns]"
      ]
     },
     "execution_count": 62,
     "metadata": {},
     "output_type": "execute_result"
    }
   ],
   "source": [
    "serie = df.sample(frac=.4)\n",
    "serie"
   ]
  },
  {
   "cell_type": "markdown",
   "id": "986b15be-d715-4ade-ab5c-dbac7707d7bf",
   "metadata": {},
   "source": [
    "### Ejercicio 5"
   ]
  },
  {
   "cell_type": "code",
   "execution_count": 69,
   "id": "bd3c5b09-e4d7-4628-8ca9-d1ddc440ed33",
   "metadata": {},
   "outputs": [
    {
     "data": {
      "text/plain": [
       "1        14827\n",
       "7        10401\n",
       "14       19057\n",
       "15       16570\n",
       "39        6522\n",
       "         ...  \n",
       "10740     3551\n",
       "10741     2784\n",
       "10742     5634\n",
       "10743    13165\n",
       "10755    13955\n",
       "Name: mileage, Length: 5610, dtype: int64"
      ]
     },
     "execution_count": 69,
     "metadata": {},
     "output_type": "execute_result"
    }
   ],
   "source": [
    "serie = df[\"mileage\"]\n",
    "indices = serie[::]< 20000\n",
    "serie[indices]"
   ]
  },
  {
   "cell_type": "markdown",
   "id": "54995f4c-00a4-472b-ae7d-affa4c45b9ef",
   "metadata": {},
   "source": [
    "### Ejercicio 6"
   ]
  },
  {
   "cell_type": "code",
   "execution_count": 74,
   "id": "a19a10a0-e7e0-4e34-a02d-b88b11c02dc1",
   "metadata": {},
   "outputs": [
    {
     "data": {
      "text/plain": [
       "6965      5.5\n",
       "6172      5.5\n",
       "6132      5.5\n",
       "6198      5.5\n",
       "2116      5.5\n",
       "        ...  \n",
       "7299    470.8\n",
       "3628    470.8\n",
       "6070    470.8\n",
       "2352    470.8\n",
       "7347    470.8\n",
       "Name: mpg, Length: 10781, dtype: float64"
      ]
     },
     "execution_count": 74,
     "metadata": {},
     "output_type": "execute_result"
    }
   ],
   "source": [
    "serie = df[\"mpg\"]\n",
    "pd.Series.sort_values(serie)"
   ]
  },
  {
   "cell_type": "markdown",
   "id": "6089fe12-2922-4bd9-986a-5bf185d693d8",
   "metadata": {},
   "source": [
    "### Ejercicio 7"
   ]
  },
  {
   "cell_type": "code",
   "execution_count": 104,
   "id": "879a114c-cb48-4203-99a1-5abeecc5c705",
   "metadata": {},
   "outputs": [
    {
     "name": "stdout",
     "output_type": "stream",
     "text": [
      "2.1677673685186902 0.5520537772398375 0.0 6.6\n",
      "0.0\n",
      "6.6\n"
     ]
    }
   ],
   "source": [
    "serie = df[\"engineSize\"]\n",
    "media = serie.mean()\n",
    "desv = serie.std()\n",
    "minimum = serie.min()\n",
    "maximum = serie.max()\n",
    "print(media, desv, minimum, maximum)"
   ]
  },
  {
   "cell_type": "markdown",
   "id": "43b78cf7-3d47-47f1-aae7-c7688068e94c",
   "metadata": {},
   "source": [
    "### Ejercicio 8"
   ]
  },
  {
   "cell_type": "code",
   "execution_count": null,
   "id": "2f37a129-14aa-4249-82ce-cb2d0a2fec14",
   "metadata": {},
   "outputs": [],
   "source": []
  }
 ],
 "metadata": {
  "kernelspec": {
   "display_name": "Python 3 (ipykernel)",
   "language": "python",
   "name": "python3"
  },
  "language_info": {
   "codemirror_mode": {
    "name": "ipython",
    "version": 3
   },
   "file_extension": ".py",
   "mimetype": "text/x-python",
   "name": "python",
   "nbconvert_exporter": "python",
   "pygments_lexer": "ipython3",
   "version": "3.11.7"
  }
 },
 "nbformat": 4,
 "nbformat_minor": 5
}
